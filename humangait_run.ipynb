{
 "cells": [
  {
   "cell_type": "markdown",
   "metadata": {},
   "source": [
    "# Human Gait Recognition - Student Implementation\n",
    "### A final group project of COMP7404 at HKU implementing ML Research Papers\n",
    "\n",
    "Team Members:\n",
    "- Chan Ho Long\n",
    "- Mak Ho Yin"
   ]
  },
  {
   "cell_type": "markdown",
   "metadata": {},
   "source": [
    "### 1. Data Preparation\n",
    "\n",
    "The structure of the input data is expected to be of the following:\n",
    "```json\n",
    "[\n",
    "    // Sample 1\n",
    "    {\n",
    "        \"subject_id\": \"\",\n",
    "        \"conditions\": \"\",\n",
    "        \"gait_sequence\": [\n",
    "            // Silhouette (Frame) 1\n",
    "            [\n",
    "                [0, 1, 0, 1, 1, ...],\n",
    "                [0, 0, 1, 1, 1, ...],\n",
    "                ...\n",
    "            ],\n",
    "            // Silhouette (Frame) 2+\n",
    "            ...\n",
    "        ]\n",
    "    }, \n",
    "    // Sample 2+\n",
    "    ...\n",
    "]```"
   ]
  },
  {
   "cell_type": "code",
   "execution_count": null,
   "metadata": {},
   "outputs": [],
   "source": [
    "import json\n",
    "import numpy as np\n",
    "\n",
    "np.random.seed(0)\n",
    "\n",
    "num_rows, num_cols = 64, 64 # Silhouette dimension\n",
    "\n",
    "num_classes = 10\n",
    "num_samples_per_class = 100\n",
    "num_silhouettes_per_sample = 10\n",
    "\n",
    "# The overall dataset\n",
    "dataset = []\n",
    "\n",
    "for class_id in range(num_classes):\n",
    "    for _ in range(num_samples_per_class):\n",
    "        gait_sequence = np.random.randint(0, 2, (num_silhouettes_per_sample, num_rows, num_cols))\n",
    "        sample = {\n",
    "            \"subject_id\": f\"class_{class_id}\",\n",
    "            \"conditions\": \"\",\n",
    "            \"gait_sequence\": gait_sequence\n",
    "        }\n",
    "        dataset.append(sample)"
   ]
  },
  {
   "cell_type": "markdown",
   "metadata": {},
   "source": [
    "### 2. Training"
   ]
  },
  {
   "cell_type": "code",
   "execution_count": null,
   "metadata": {},
   "outputs": [],
   "source": [
    "from humangait_impl import humangait\n",
    "\n",
    "model = humangait.CSA_DATER()\n",
    "model.train(dataset)"
   ]
  },
  {
   "cell_type": "markdown",
   "metadata": {},
   "source": [
    "### 3. Prediction"
   ]
  },
  {
   "cell_type": "code",
   "execution_count": null,
   "metadata": {},
   "outputs": [],
   "source": [
    "model.predict(dataset[305])"
   ]
  }
 ],
 "metadata": {
  "kernelspec": {
   "display_name": "Python 3",
   "language": "python",
   "name": "python3"
  },
  "language_info": {
   "codemirror_mode": {
    "name": "ipython",
    "version": 3
   },
   "file_extension": ".py",
   "mimetype": "text/x-python",
   "name": "python",
   "nbconvert_exporter": "python",
   "pygments_lexer": "ipython3",
   "version": "3.11.3"
  }
 },
 "nbformat": 4,
 "nbformat_minor": 2
}
