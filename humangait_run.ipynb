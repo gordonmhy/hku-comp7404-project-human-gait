{
 "cells": [
  {
   "cell_type": "markdown",
   "metadata": {},
   "source": [
    "# Human Gait Recognition - Student Implementation\n",
    "### A final group project of COMP7404 at HKU implementing ML Research Papers\n",
    "\n",
    "Team Members:\n",
    "- Chan Ho Long\n",
    "- Mak Ho Yin"
   ]
  },
  {
   "cell_type": "markdown",
   "metadata": {},
   "source": [
    "### 1. Data Preparation"
   ]
  },
  {
   "cell_type": "code",
   "execution_count": 1,
   "metadata": {},
   "outputs": [],
   "source": [
    "import numpy as np\n",
    "import scipy as sp\n",
    "\n",
    "def _init(m_dash, n_dash):\n",
    "    # Step 1 or 5\n",
    "    A = np.random.rand(m_dash, n_dash)\n",
    "    Q, _ = sp.linalg.qr(A)\n",
    "    return Q\n",
    "\n",
    "m, n = 10, 10\n",
    "\n",
    "silhouette = np.array([\n",
    "    [0, 0, 0, 1, 1, 1, 1, 0, 0, 0],\n",
    "    [0, 0, 1, 1, 1, 1, 1, 1, 0, 0],\n",
    "    [0, 1, 1, 1, 1, 1, 1, 1, 1, 0],\n",
    "    [1, 1, 1, 0, 0, 0, 1, 1, 1, 1],\n",
    "    [1, 1, 0, 0, 0, 0, 0, 1, 1, 1],\n",
    "    [1, 1, 1, 0, 0, 0, 1, 1, 1, 1],\n",
    "    [0, 1, 1, 1, 1, 1, 1, 1, 1, 0],\n",
    "    [0, 0, 1, 1, 1, 1, 1, 1, 0, 0],\n",
    "    [0, 0, 0, 1, 1, 1, 1, 0, 0, 0],\n",
    "    [0, 0, 0, 0, 1, 1, 0, 0, 0, 0]\n",
    "])\n",
    "\n",
    "# 5 silhouettes per datapoint\n",
    "# Same for all, for the sake of simplicity\n",
    "gait_sequence = np.array([silhouette for _ in range(5)])\n",
    "\n",
    "datapoints = []\n",
    "for i in range(10):\n",
    "    # Subject ID assigned to each\n",
    "    subject_id = f'00{i%3 + 1}'\n",
    "    # Same for all, for the sake of simplicity\n",
    "    conditions = 'concrete,backpack,sneakers,1_week'\n",
    "    # Create the datapoint as a structured array\n",
    "    datapoint = np.array([(subject_id, conditions, gait_sequence)], \n",
    "                         dtype=[('subject_id', 'U10'), ('conditions', 'U50'), ('gait_sequence', 'O')])\n",
    "    # Append the datapoint to our list\n",
    "    datapoints.append(datapoint)\n",
    "\n",
    "dataset = np.concatenate(datapoints)\n",
    "\n",
    "# print(dataset)"
   ]
  },
  {
   "cell_type": "markdown",
   "metadata": {},
   "source": [
    "### 2. Training"
   ]
  },
  {
   "cell_type": "code",
   "execution_count": 4,
   "metadata": {},
   "outputs": [
    {
     "data": {
      "text/plain": [
       "'001'"
      ]
     },
     "execution_count": 4,
     "metadata": {},
     "output_type": "execute_result"
    }
   ],
   "source": [
    "from humangait_impl import humangait\n",
    "\n",
    "model = humangait.CSA_DATER()\n",
    "model.train(dataset)\n",
    "subject = model.predict(dataset[-1])\n",
    "\n",
    "subject"
   ]
  }
 ],
 "metadata": {
  "kernelspec": {
   "display_name": "Python 3",
   "language": "python",
   "name": "python3"
  },
  "language_info": {
   "codemirror_mode": {
    "name": "ipython",
    "version": 3
   },
   "file_extension": ".py",
   "mimetype": "text/x-python",
   "name": "python",
   "nbconvert_exporter": "python",
   "pygments_lexer": "ipython3",
   "version": "3.11.3"
  }
 },
 "nbformat": 4,
 "nbformat_minor": 2
}
