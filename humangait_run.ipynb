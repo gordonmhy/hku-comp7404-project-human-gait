{
 "cells": [
  {
   "cell_type": "markdown",
   "metadata": {},
   "source": [
    "# Human Gait Recognition - Student Implementation\n",
    "### A final group project of COMP7404 at HKU implementing ML Research Papers\n",
    "\n",
    "Team Members:\n",
    "- Chan Ho Long\n",
    "- Mak Ho Yin"
   ]
  },
  {
   "cell_type": "code",
   "execution_count": null,
   "metadata": {},
   "outputs": [],
   "source": []
  }
 ],
 "metadata": {
  "kernelspec": {
   "display_name": "Python 3",
   "language": "python",
   "name": "python3"
  },
  "language_info": {
   "name": "python",
   "version": "3.11.3"
  }
 },
 "nbformat": 4,
 "nbformat_minor": 2
}
