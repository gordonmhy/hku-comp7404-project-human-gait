{
 "cells": [
  {
   "cell_type": "markdown",
   "metadata": {},
   "source": [
    "### Generate datapoints"
   ]
  },
  {
   "cell_type": "code",
   "execution_count": null,
   "metadata": {},
   "outputs": [],
   "source": [
    "import numpy as np\n",
    "\n",
    "silhouette = np.array([\n",
    "    [0, 0, 0, 1, 1, 1, 1, 0, 0, 0],\n",
    "    [0, 0, 1, 1, 1, 1, 1, 1, 0, 0],\n",
    "    [0, 1, 1, 1, 1, 1, 1, 1, 1, 0],\n",
    "    [1, 1, 1, 0, 0, 0, 1, 1, 1, 1],\n",
    "    [1, 1, 0, 0, 0, 0, 0, 1, 1, 1],\n",
    "    [1, 1, 1, 0, 0, 0, 1, 1, 1, 1],\n",
    "    [0, 1, 1, 1, 1, 1, 1, 1, 1, 0],\n",
    "    [0, 0, 1, 1, 1, 1, 1, 1, 0, 0],\n",
    "    [0, 0, 0, 1, 1, 1, 1, 0, 0, 0],\n",
    "    [0, 0, 0, 0, 1, 1, 0, 0, 0, 0]\n",
    "])\n",
    "\n",
    "# 5 silhouettes per datapoint\n",
    "# Same for all, for the sake of simplicity\n",
    "gait_sequence = np.array([silhouette for _ in range(5)])\n",
    "\n",
    "datapoints = []\n",
    "for i in range(10):\n",
    "    # Subject ID assigned to each\n",
    "    subject_id = f'00{i%3 + 1}'\n",
    "    # Same for all, for the sake of simplicity\n",
    "    conditions = 'concrete,backpack,sneakers,1_week'\n",
    "    # Create the datapoint as a structured array\n",
    "    datapoint = np.array([(subject_id, conditions, gait_sequence)], \n",
    "                         dtype=[('subject_id', 'U10'), ('conditions', 'U50'), ('gait_sequence', 'O')])\n",
    "    # Append the datapoint to our list\n",
    "    datapoints.append(datapoint)\n",
    "\n",
    "dataset = np.concatenate(datapoints)\n",
    "\n",
    "# print(dataset)"
   ]
  },
  {
   "cell_type": "markdown",
   "metadata": {},
   "source": [
    "### Convert to vectors\n",
    "\n",
    "Here, a matrix is formed where each row vector is a datapoint."
   ]
  },
  {
   "cell_type": "code",
   "execution_count": null,
   "metadata": {},
   "outputs": [],
   "source": [
    "flattened_sequences = [datapoint['gait_sequence'].flatten() for datapoint in dataset]\n",
    "matrix = np.vstack(flattened_sequences)\n",
    "\n",
    "# np.set_printoptions(threshold=np.inf)\n",
    "# print(matrix)"
   ]
  }
 ],
 "metadata": {
  "kernelspec": {
   "display_name": "Python 3",
   "language": "python",
   "name": "python3"
  },
  "language_info": {
   "codemirror_mode": {
    "name": "ipython",
    "version": 3
   },
   "file_extension": ".py",
   "mimetype": "text/x-python",
   "name": "python",
   "nbconvert_exporter": "python",
   "pygments_lexer": "ipython3",
   "version": "3.11.3"
  }
 },
 "nbformat": 4,
 "nbformat_minor": 2
}
