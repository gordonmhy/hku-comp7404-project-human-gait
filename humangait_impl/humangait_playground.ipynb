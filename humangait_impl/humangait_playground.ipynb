{
 "cells": [
  {
   "cell_type": "markdown",
   "metadata": {},
   "source": [
    "### Generate datapoints"
   ]
  },
  {
   "cell_type": "code",
   "execution_count": null,
   "metadata": {},
   "outputs": [],
   "source": [
    "import numpy as np\n",
    "\n",
    "m, n = 10, 10\n",
    "\n",
    "silhouette = np.array([\n",
    "    [0, 0, 0, 1, 1, 1, 1, 0, 0, 0],\n",
    "    [0, 0, 1, 1, 1, 1, 1, 1, 0, 0],\n",
    "    [0, 1, 1, 1, 1, 1, 1, 1, 1, 0],\n",
    "    [1, 1, 1, 0, 0, 0, 1, 1, 1, 1],\n",
    "    [1, 1, 0, 0, 0, 0, 0, 1, 1, 1],\n",
    "    [1, 1, 1, 0, 0, 0, 1, 1, 1, 1],\n",
    "    [0, 1, 1, 1, 1, 1, 1, 1, 1, 0],\n",
    "    [0, 0, 1, 1, 1, 1, 1, 1, 0, 0],\n",
    "    [0, 0, 0, 1, 1, 1, 1, 0, 0, 0],\n",
    "    [0, 0, 0, 0, 1, 1, 0, 0, 0, 0]\n",
    "])\n",
    "\n",
    "# 5 silhouettes per datapoint\n",
    "# Same for all, for the sake of simplicity\n",
    "gait_sequence = np.array([silhouette for _ in range(5)])\n",
    "\n",
    "datapoints = []\n",
    "for i in range(10):\n",
    "    # Subject ID assigned to each\n",
    "    subject_id = f'00{i%3 + 1}'\n",
    "    # Same for all, for the sake of simplicity\n",
    "    conditions = 'concrete,backpack,sneakers,1_week'\n",
    "    # Create the datapoint as a structured array\n",
    "    datapoint = np.array([(subject_id, conditions, gait_sequence)], \n",
    "                         dtype=[('subject_id', 'U10'), ('conditions', 'U50'), ('gait_sequence', 'O')])\n",
    "    # Append the datapoint to our list\n",
    "    datapoints.append(datapoint)\n",
    "\n",
    "dataset = np.concatenate(datapoints)\n",
    "\n",
    "# print(dataset)"
   ]
  },
  {
   "cell_type": "markdown",
   "metadata": {},
   "source": [
    "### Initialization"
   ]
  },
  {
   "cell_type": "code",
   "execution_count": null,
   "metadata": {},
   "outputs": [],
   "source": [
    "# Initial Matrix\n",
    "U = np.eye(10)\n",
    "\n",
    "# Parameters\n",
    "Tmax_c, Tmax_d = (3, 3)"
   ]
  },
  {
   "cell_type": "markdown",
   "metadata": {},
   "source": [
    "### CSA"
   ]
  },
  {
   "cell_type": "code",
   "execution_count": null,
   "metadata": {},
   "outputs": [],
   "source": [
    "e = 3 # permissible error\n",
    "for t in range(Tmax_c):\n",
    "    # Step 2(a)\n",
    "    F = []\n",
    "    for datapoint in dataset:\n",
    "        for silhouette in datapoint[\"gait_sequence\"]:\n",
    "            F += [U @ U.T @ silhouette]\n",
    "    F = np.concatenate(F, axis=1)\n",
    "    eigval, eigvec = np.linalg.eig(F @ F.T)\n",
    "    eigvec = eigvec[:, np.argsort(eigval)[::-1]]\n",
    "    V_new = eigvec[:, :5]\n",
    "    # Step 2(b)\n",
    "    G = []\n",
    "    for datapoint in dataset:\n",
    "        for silhouette in datapoint[\"gait_sequence\"]:\n",
    "            G += [silhouette @ V_new @ V_new.T]\n",
    "    G = np.concatenate(G, axis=1)\n",
    "    eigval, eigvec = np.linalg.eig(G @ G.T)\n",
    "    eigvec = eigvec[:, np.argsort(eigval)[::-1]]\n",
    "    U_new = eigvec[:, :5]\n",
    "    # Step 2(c)\n",
    "    if t > 1 and np.linalg.norm(U_new - U, \"fro\") < 10 * e and np.linalg.norm(V_new - V, \"fro\") < 10 * e:\n",
    "        break\n",
    "    U, V = U_new, V_new\n"
   ]
  },
  {
   "cell_type": "markdown",
   "metadata": {},
   "source": [
    "### Use CSA Results"
   ]
  },
  {
   "cell_type": "code",
   "execution_count": null,
   "metadata": {},
   "outputs": [],
   "source": [
    "# Step 4\n",
    "projected_dataset = []\n",
    "for datapoint in dataset:\n",
    "    new_datapoint = datapoint.copy()\n",
    "    projected_gait_sequence = []\n",
    "    for silhouette in datapoint[\"gait_sequence\"]:\n",
    "        projected_gait_sequence += [U.T @ silhouette @ V]\n",
    "    new_datapoint[\"gait_sequence\"] = projected_gait_sequence\n",
    "    projected_dataset.append(new_datapoint)\n",
    "\n",
    "# projected_dataset"
   ]
  }
 ],
 "metadata": {
  "kernelspec": {
   "display_name": "Python 3",
   "language": "python",
   "name": "python3"
  },
  "language_info": {
   "codemirror_mode": {
    "name": "ipython",
    "version": 3
   },
   "file_extension": ".py",
   "mimetype": "text/x-python",
   "name": "python",
   "nbconvert_exporter": "python",
   "pygments_lexer": "ipython3",
   "version": "3.11.3"
  }
 },
 "nbformat": 4,
 "nbformat_minor": 2
}
