{
 "cells": [
  {
   "cell_type": "markdown",
   "metadata": {},
   "source": [
    "### Generate datapoints"
   ]
  },
  {
   "cell_type": "code",
   "execution_count": 1,
   "metadata": {},
   "outputs": [],
   "source": [
    "import numpy as np\n",
    "import scipy as sp\n",
    "\n",
    "def _init(m_dash, n_dash):\n",
    "    # Step 1 or 5\n",
    "    A = np.random.rand(m_dash, n_dash)\n",
    "    Q, _ = sp.linalg.qr(A)\n",
    "    return Q\n",
    "\n",
    "m, n = 10, 10\n",
    "\n",
    "silhouette = np.array([\n",
    "    [0, 0, 0, 1, 1, 1, 1, 0, 0, 0],\n",
    "    [0, 0, 1, 1, 1, 1, 1, 1, 0, 0],\n",
    "    [0, 1, 1, 1, 1, 1, 1, 1, 1, 0],\n",
    "    [1, 1, 1, 0, 0, 0, 1, 1, 1, 1],\n",
    "    [1, 1, 0, 0, 0, 0, 0, 1, 1, 1],\n",
    "    [1, 1, 1, 0, 0, 0, 1, 1, 1, 1],\n",
    "    [0, 1, 1, 1, 1, 1, 1, 1, 1, 0],\n",
    "    [0, 0, 1, 1, 1, 1, 1, 1, 0, 0],\n",
    "    [0, 0, 0, 1, 1, 1, 1, 0, 0, 0],\n",
    "    [0, 0, 0, 0, 1, 1, 0, 0, 0, 0]\n",
    "])\n",
    "\n",
    "# 5 silhouettes per datapoint\n",
    "# Same for all, for the sake of simplicity\n",
    "gait_sequence = np.array([silhouette for _ in range(5)])\n",
    "\n",
    "datapoints = []\n",
    "for i in range(10):\n",
    "    # Subject ID assigned to each\n",
    "    subject_id = f'00{i%3 + 1}'\n",
    "    # Same for all, for the sake of simplicity\n",
    "    conditions = 'concrete,backpack,sneakers,1_week'\n",
    "    # Create the datapoint as a structured array\n",
    "    datapoint = np.array([(subject_id, conditions, gait_sequence)], \n",
    "                         dtype=[('subject_id', 'U10'), ('conditions', 'U50'), ('gait_sequence', 'O')])\n",
    "    # Append the datapoint to our list\n",
    "    datapoints.append(datapoint)\n",
    "\n",
    "dataset = np.concatenate(datapoints)\n",
    "\n",
    "# print(dataset)"
   ]
  },
  {
   "cell_type": "markdown",
   "metadata": {},
   "source": [
    "### Initialization"
   ]
  },
  {
   "cell_type": "code",
   "execution_count": 2,
   "metadata": {},
   "outputs": [
    {
     "data": {
      "text/plain": [
       "(array([[-0.0850991 +0.08155488j,  0.08490312+0.04616224j,\n",
       "         -0.14886125-0.00209513j],\n",
       "        [ 0.09658771+0.05175975j, -0.01018189-0.10904837j,\n",
       "          0.20149154+0.12563764j],\n",
       "        [-0.14409981+0.01246592j,  0.16028601+0.14224731j,\n",
       "         -0.19499782-0.25949985j],\n",
       "        [ 0.15080917-0.29229093j, -0.31834079-0.08164537j,\n",
       "          0.25133914+0.06561643j],\n",
       "        [-0.21641082+0.69907642j,  0.60017246+0.01063126j,\n",
       "         -0.41418903+0.14238132j],\n",
       "        [ 0.15080917-0.29229093j, -0.31834079-0.08164537j,\n",
       "          0.25133914+0.06561643j],\n",
       "        [-0.14409981+0.01246592j,  0.16028601+0.14224731j,\n",
       "         -0.19499782-0.25949985j],\n",
       "        [ 0.09658771+0.05175975j, -0.01018189-0.10904837j,\n",
       "          0.20149154+0.12563764j],\n",
       "        [-0.0850991 +0.08155488j,  0.08490312+0.04616224j,\n",
       "         -0.14886125-0.00209513j],\n",
       "        [ 0.26273407-0.29228685j, -0.49298856-0.21472633j,\n",
       "          0.39424537+0.3872567j ]]),\n",
       " array([[-0.23751182+0.25500261j,  0.01341595+0.40661841j,\n",
       "         -0.11116963-0.21156031j],\n",
       "        [-0.12336288-0.02051599j,  0.0398571 -0.19674583j,\n",
       "          0.08513374+0.08069116j],\n",
       "        [ 0.02233401-0.01337121j, -0.10572747-0.00802625j,\n",
       "         -0.01059705+0.05583427j],\n",
       "        [ 0.12568339+0.08141635j, -0.02639318+0.17768861j,\n",
       "         -0.07427313-0.25226802j],\n",
       "        [ 0.46617246-0.54919923j,  0.16180462-0.21139156j,\n",
       "          0.23144526+0.53827718j],\n",
       "        [ 0.12568339+0.08141635j, -0.02639318+0.17768861j,\n",
       "         -0.07427313-0.25226802j],\n",
       "        [ 0.02233401-0.01337121j, -0.10572747-0.00802625j,\n",
       "         -0.01059705+0.05583427j],\n",
       "        [-0.12336288-0.02051599j,  0.0398571 -0.19674583j,\n",
       "          0.08513374+0.08069116j],\n",
       "        [-0.23751182+0.25500261j,  0.01341595+0.40661841j,\n",
       "         -0.11116963-0.21156031j],\n",
       "        [-0.03549135-0.39930407j,  0.46018565-0.46765892j,\n",
       "          0.37908822+0.47587973j]]))"
      ]
     },
     "execution_count": 2,
     "metadata": {},
     "output_type": "execute_result"
    }
   ],
   "source": [
    "Tmax_c = 3\n",
    "Tmax_d = 3\n",
    "error = 3\n",
    "m_dash_c = 5\n",
    "n_dash_c = 5\n",
    "m_dash_d = 3\n",
    "n_dash_d = 3\n",
    "\n",
    "import humangait\n",
    "model = humangait.CSA_DATER()\n",
    "model.train(dataset)"
   ]
  },
  {
   "cell_type": "markdown",
   "metadata": {},
   "source": [
    "### CSA"
   ]
  },
  {
   "cell_type": "code",
   "execution_count": null,
   "metadata": {},
   "outputs": [],
   "source": [
    "shape = dataset[0][\"gait_sequence\"][0].shape\n",
    "\n",
    "m, n = shape\n",
    "U = _init(m, m_dash_c)\n",
    "for t in range(Tmax_c):\n",
    "    # Step 2(a)\n",
    "    F = []\n",
    "    for datapoint in dataset:\n",
    "        for silhouette in datapoint[\"gait_sequence\"]:\n",
    "            F += [U @ U.T @ silhouette]\n",
    "    F = np.concatenate(F, axis=1)\n",
    "    eigval, eigvec = sp.linalg.eig(F @ F.T)\n",
    "    eigvec = eigvec[:, np.argsort(eigval)[::-1]]\n",
    "    V_new = eigvec[:, :n_dash_c]\n",
    "    # Step 2(b)\n",
    "    G = []\n",
    "    for datapoint in dataset:\n",
    "        for silhouette in datapoint[\"gait_sequence\"]:\n",
    "            G += [silhouette @ V_new @ V_new.T]\n",
    "    G = np.concatenate(G, axis=1)\n",
    "    eigval, eigvec = sp.linalg.eig(G @ G.T)\n",
    "    eigvec = eigvec[:, np.argsort(eigval)[::-1]]\n",
    "    U_new = eigvec[:, :m_dash_c]\n",
    "    # Step 2(c)\n",
    "    if t > 1:\n",
    "        U_error = np.linalg.norm(U_new - U, \"fro\")\n",
    "        V_error = np.linalg.norm(V_new - V, \"fro\")\n",
    "        if U_error < 10 * error and V_error < 10 * error:\n",
    "            U, V = U_new, V_new\n",
    "            break\n",
    "    U, V = U_new, V_new\n",
    "\n",
    "U_c, V_c = U, V\n",
    "print(U, V)"
   ]
  },
  {
   "cell_type": "markdown",
   "metadata": {},
   "source": [
    "### Use CSA Results"
   ]
  },
  {
   "cell_type": "code",
   "execution_count": null,
   "metadata": {},
   "outputs": [],
   "source": [
    "# Step 4\n",
    "projected_dataset = []\n",
    "for datapoint in dataset:\n",
    "    new_datapoint = datapoint.copy()\n",
    "    projected_gait_sequence = []\n",
    "    for silhouette in datapoint[\"gait_sequence\"]:\n",
    "        projected_gait_sequence.append(U.T @ silhouette @ V)\n",
    "    new_datapoint[\"gait_sequence\"] = projected_gait_sequence\n",
    "    projected_dataset.append(new_datapoint)\n",
    "\n",
    "dataset = projected_dataset\n",
    "print(projected_dataset)"
   ]
  },
  {
   "cell_type": "markdown",
   "metadata": {},
   "source": [
    "### DATER"
   ]
  },
  {
   "cell_type": "code",
   "execution_count": null,
   "metadata": {},
   "outputs": [],
   "source": [
    "shape = dataset[0][\"gait_sequence\"][0].shape\n",
    "\n",
    "m, n = shape\n",
    "U = _init(m, m_dash_d)\n",
    "# Group by class and calculate overall mean\n",
    "classes = dict()\n",
    "Xavg = []\n",
    "for datapoint in dataset:\n",
    "    label = datapoint[\"subject_id\"]\n",
    "    if label not in classes.keys():\n",
    "        classes[label] = dict()\n",
    "        classes[label][\"samples\"] = list()\n",
    "    classes[label][\"samples\"] += datapoint[\"gait_sequence\"]\n",
    "    Xavg += datapoint[\"gait_sequence\"]\n",
    "Xavg = np.mean(Xavg, axis=0)\n",
    "# Calculate mean of samples by class\n",
    "for label, class_info in classes.items():\n",
    "    class_info[\"Xavg_c\"] = np.mean(class_info[\"samples\"], axis=0)\n",
    "for t in range(Tmax_d):\n",
    "    # Step 6(a)\n",
    "    Xuavg = U.T @ Xavg\n",
    "    Su_b, Su_w = [None] * 2\n",
    "    for label, class_info in classes.items():\n",
    "        Xuavg_c = U.T @ class_info[\"Xavg_c\"]\n",
    "        n_c = len(class_info[\"samples\"])\n",
    "        delta = n_c * ((Xuavg_c - Xuavg).T @ (Xuavg_c - Xuavg))\n",
    "        Su_b = delta if Su_b is None else Su_b + delta\n",
    "        for silhouette in class_info[\"samples\"]:\n",
    "            Xu_i = U.T @ silhouette\n",
    "            delta = (Xu_i - Xuavg_c).T @ (Xu_i - Xuavg_c)\n",
    "            Su_w = delta if Su_w is None else Su_w + delta\n",
    "    eigval, eigvec = sp.linalg.eig(Su_b, Su_w)\n",
    "    eigvec = eigvec[:, np.argsort(eigval)[::-1]]\n",
    "    V_new = eigvec[:, :n_dash_d]\n",
    "    # Step 6(b)\n",
    "    Xvavg = Xavg @ V_new\n",
    "    Sv_b, Sv_w = [None] * 2\n",
    "    for label, class_info in classes.items():\n",
    "        Xvavg_c = class_info[\"Xavg_c\"] @ V_new\n",
    "        delta = n_c * ((Xvavg_c - Xvavg) @ (Xvavg_c - Xvavg).T)\n",
    "        Sv_b = delta if Sv_b is None else Sv_b + delta\n",
    "        for silhouette in class_info[\"samples\"]:\n",
    "            Xv_i = silhouette @ V_new\n",
    "            delta =  (Xv_i - Xvavg_c) @ (Xv_i - Xvavg_c).T\n",
    "            Sv_w = delta if Sv_w is None else Sv_w + delta\n",
    "    eigval, eigvec = sp.linalg.eig(Sv_b, Sv_w)\n",
    "    eigvec = eigvec[:, np.argsort(eigval)[::-1]]\n",
    "    U_new = eigvec[:, :m_dash_d]\n",
    "    # Step 6(c)\n",
    "    if t > 1:\n",
    "        U_error = np.linalg.norm(U_new - U, \"fro\")\n",
    "        V_error = np.linalg.norm(V_new - V, \"fro\")\n",
    "        if U_error < m * error and V_error < n * error:\n",
    "            U, V = U_new, V_new\n",
    "            break\n",
    "    U, V = U_new, V_new\n",
    "\n",
    "U_d, V_d = U, V\n",
    "print(U, V)"
   ]
  },
  {
   "cell_type": "code",
   "execution_count": null,
   "metadata": {},
   "outputs": [],
   "source": [
    "print(U_c @ U_d, V_c @ V_d)"
   ]
  }
 ],
 "metadata": {
  "kernelspec": {
   "display_name": "Python 3",
   "language": "python",
   "name": "python3"
  },
  "language_info": {
   "codemirror_mode": {
    "name": "ipython",
    "version": 3
   },
   "file_extension": ".py",
   "mimetype": "text/x-python",
   "name": "python",
   "nbconvert_exporter": "python",
   "pygments_lexer": "ipython3",
   "version": "3.11.3"
  }
 },
 "nbformat": 4,
 "nbformat_minor": 2
}
